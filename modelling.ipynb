{
 "cells": [
  {
   "cell_type": "markdown",
   "metadata": {
    "collapsed": true,
    "pycharm": {
     "name": "#%% md\n"
    }
   },
   "source": [
    "# Modeling\n",
    "\n",
    "Let's try to create several models, tune them and then choose best or try to ensemble them in better model.\n",
    " - Decicion tree\n",
    " - Random forest\n",
    " - AdaBoost\n",
    " - Linear Regression\n",
    " - Ensemble them!\n",
    " - Maybe something else?"
   ]
  },
  {
   "cell_type": "code",
   "execution_count": 15,
   "outputs": [],
   "source": [
    "import pandas as pd\n",
    "\n",
    "df_expectancy = pd.read_csv('life_expectancy_cleaned.csv')\n",
    "# for ensembly\n",
    "regressors = []"
   ],
   "metadata": {
    "collapsed": false,
    "pycharm": {
     "name": "#%%\n"
    }
   }
  },
  {
   "cell_type": "code",
   "execution_count": 11,
   "outputs": [],
   "source": [
    "from sklearn.model_selection import train_test_split\n",
    "\n",
    "\n",
    "X, y = df_expectancy.drop(columns='Life expectancy'), df_expectancy['Life expectancy']\n",
    "X_train, X_test, y_train, y_test = train_test_split(X, y, train_size=0.6)\n",
    "X_test, X_valid, y_test, y_valid = train_test_split(X_test, y_test, train_size=0.5)"
   ],
   "metadata": {
    "collapsed": false,
    "pycharm": {
     "name": "#%%\n"
    }
   }
  },
  {
   "cell_type": "markdown",
   "source": [
    "### Decision Tree\n",
    "\n",
    "uh."
   ],
   "metadata": {
    "collapsed": false,
    "pycharm": {
     "name": "#%% md\n"
    }
   }
  },
  {
   "cell_type": "code",
   "execution_count": 32,
   "outputs": [
    {
     "data": {
      "text/plain": "9.518174513665045"
     },
     "execution_count": 32,
     "metadata": {},
     "output_type": "execute_result"
    }
   ],
   "source": [
    "from sklearn.tree import DecisionTreeRegressor\n",
    "from sklearn.model_selection import GridSearchCV\n",
    "from sklearn.metrics import mean_squared_error\n",
    "\n",
    "parameters = {\n",
    "    'criterion' : ['mse', 'mae'],\n",
    "    'max_depth' : range(3, 35)\n",
    "}\n",
    "\n",
    "grid = GridSearchCV(DecisionTreeRegressor(random_state=666), parameters)\n",
    "grid.fit(X_train, y_train)\n",
    "mean_squared_error(y_valid, grid.predict(X_valid))"
   ],
   "metadata": {
    "collapsed": false,
    "pycharm": {
     "name": "#%%\n"
    }
   }
  },
  {
   "cell_type": "code",
   "execution_count": 37,
   "outputs": [
    {
     "name": "stdout",
     "output_type": "stream",
     "text": [
      "Best parameters: {'criterion': 'mse', 'max_depth': 14}\n",
      "[GridSearchCV(estimator=DecisionTreeRegressor(random_state=666),\n",
      "             param_grid={'criterion': ['mse', 'mae'],\n",
      "                         'max_depth': range(3, 35)})]\n"
     ]
    }
   ],
   "source": [
    "regressors.append(grid)\n",
    "print(\"Best parameters:\", grid.best_params_)\n",
    "print(regressors)"
   ],
   "metadata": {
    "collapsed": false,
    "pycharm": {
     "name": "#%%\n"
    }
   }
  },
  {
   "cell_type": "markdown",
   "source": [
    "### Random forest\n",
    "\n",
    "A little better."
   ],
   "metadata": {
    "collapsed": false,
    "pycharm": {
     "name": "#%% md\n"
    }
   }
  },
  {
   "cell_type": "code",
   "execution_count": 49,
   "outputs": [
    {
     "data": {
      "text/plain": "4.666853644098862"
     },
     "execution_count": 49,
     "metadata": {},
     "output_type": "execute_result"
    }
   ],
   "source": [
    "from sklearn.ensemble import RandomForestRegressor\n",
    "\n",
    "parameters = {\n",
    "    'n_estimators' : range(100, 210, 25),\n",
    "    'max_depth' : range(1, 10),\n",
    "}\n",
    "\n",
    "grid = GridSearchCV(RandomForestRegressor(random_state=666, n_jobs=-1), parameters)\n",
    "grid.fit(X_train, y_train)\n",
    "mean_squared_error(y_valid, grid.predict(X_valid))"
   ],
   "metadata": {
    "collapsed": false,
    "pycharm": {
     "name": "#%%\n"
    }
   }
  },
  {
   "cell_type": "code",
   "execution_count": 51,
   "outputs": [
    {
     "name": "stdout",
     "output_type": "stream",
     "text": [
      "Best parameters: {'max_depth': 9, 'n_estimators': 150}\n",
      "[GridSearchCV(estimator=DecisionTreeRegressor(random_state=666),\n",
      "             param_grid={'criterion': ['mse', 'mae'],\n",
      "                         'max_depth': range(3, 35)}), GridSearchCV(estimator=RandomForestRegressor(n_jobs=-1, random_state=666),\n",
      "             param_grid={'max_depth': range(1, 10),\n",
      "                         'n_estimators': range(100, 210, 25)})]\n"
     ]
    }
   ],
   "source": [
    "regressors.append(grid)\n",
    "print(\"Best parameters:\", grid.best_params_)\n",
    "print(regressors)"
   ],
   "metadata": {
    "collapsed": false,
    "pycharm": {
     "name": "#%%\n"
    }
   }
  },
  {
   "cell_type": "markdown",
   "source": [
    "### AdaBoost"
   ],
   "metadata": {
    "collapsed": false,
    "pycharm": {
     "name": "#%% md\n"
    }
   }
  },
  {
   "cell_type": "code",
   "execution_count": 52,
   "outputs": [
    {
     "data": {
      "text/plain": "10.475293911113852"
     },
     "execution_count": 52,
     "metadata": {},
     "output_type": "execute_result"
    }
   ],
   "source": [
    "from sklearn.ensemble import AdaBoostRegressor\n",
    "\n",
    "parameters = {\n",
    "    'n_estimators' : range(100, 210, 25),\n",
    "    'learning_rate' : [0.01, 0.05, 0.1, 0.3, 0.5, 1],\n",
    "    'loss' : ['linear', 'square', 'exponential']\n",
    "}\n",
    "\n",
    "grid = GridSearchCV(AdaBoostRegressor(random_state=666), parameters)\n",
    "grid.fit(X_train, y_train)\n",
    "mean_squared_error(y_valid, grid.predict(X_valid))"
   ],
   "metadata": {
    "collapsed": false,
    "pycharm": {
     "name": "#%%\n"
    }
   }
  },
  {
   "cell_type": "code",
   "execution_count": 53,
   "outputs": [
    {
     "name": "stdout",
     "output_type": "stream",
     "text": [
      "Best parameters: {'learning_rate': 0.3, 'loss': 'square', 'n_estimators': 125}\n",
      "[GridSearchCV(estimator=DecisionTreeRegressor(random_state=666),\n",
      "             param_grid={'criterion': ['mse', 'mae'],\n",
      "                         'max_depth': range(3, 35)}), GridSearchCV(estimator=RandomForestRegressor(n_jobs=-1, random_state=666),\n",
      "             param_grid={'max_depth': range(1, 10),\n",
      "                         'n_estimators': range(100, 210, 25)}), GridSearchCV(estimator=AdaBoostRegressor(random_state=666),\n",
      "             param_grid={'learning_rate': [0.01, 0.05, 0.1, 0.3, 0.5, 1],\n",
      "                         'loss': ['linear', 'square', 'exponential'],\n",
      "                         'n_estimators': range(100, 210, 25)})]\n"
     ]
    }
   ],
   "source": [
    "regressors.append(grid)\n",
    "print(\"Best parameters:\", grid.best_params_)\n",
    "print(regressors)"
   ],
   "metadata": {
    "collapsed": false,
    "pycharm": {
     "name": "#%%\n"
    }
   }
  },
  {
   "cell_type": "code",
   "execution_count": null,
   "outputs": [],
   "source": [
    "from sklearn.linear_model import LinearRegression\n",
    "\n"
   ],
   "metadata": {
    "collapsed": false,
    "pycharm": {
     "name": "#%%\n"
    }
   }
  }
 ],
 "metadata": {
  "kernelspec": {
   "display_name": "Python 3",
   "language": "python",
   "name": "python3"
  },
  "language_info": {
   "codemirror_mode": {
    "name": "ipython",
    "version": 2
   },
   "file_extension": ".py",
   "mimetype": "text/x-python",
   "name": "python",
   "nbconvert_exporter": "python",
   "pygments_lexer": "ipython2",
   "version": "2.7.6"
  }
 },
 "nbformat": 4,
 "nbformat_minor": 0
}