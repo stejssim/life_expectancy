{
 "cells": [
  {
   "cell_type": "markdown",
   "metadata": {
    "collapsed": true,
    "pycharm": {
     "name": "#%% md\n"
    }
   },
   "source": [
    "# Modeling\n",
    "\n",
    "Let's try to create several models, tune them and then choose best or try to ensemble them in better model.\n",
    " - Decicion tree\n",
    " - Random forest\n",
    " - AdaBoost\n",
    " - Linear Regression\n",
    " - Ensemble them!\n",
    " - Maybe something else?"
   ]
  },
  {
   "cell_type": "code",
   "execution_count": 99,
   "outputs": [],
   "source": [
    "import pandas as pd\n",
    "\n",
    "df_expectancy = pd.read_csv('life_expectancy_cleaned.csv')\n",
    "# for ensembly\n",
    "regressors = []"
   ],
   "metadata": {
    "collapsed": false,
    "pycharm": {
     "name": "#%%\n"
    }
   }
  },
  {
   "cell_type": "code",
   "execution_count": 100,
   "outputs": [],
   "source": [
    "from sklearn.model_selection import train_test_split\n",
    "\n",
    "\n",
    "X, y = df_expectancy.drop(columns='Life expectancy'), df_expectancy['Life expectancy']\n",
    "X_train, X_test, y_train, y_test = train_test_split(X, y, train_size=0.6)\n",
    "X_test, X_valid, y_test, y_valid = train_test_split(X_test, y_test, train_size=0.5)"
   ],
   "metadata": {
    "collapsed": false,
    "pycharm": {
     "name": "#%%\n"
    }
   }
  },
  {
   "cell_type": "markdown",
   "source": [
    "### Decision Tree\n",
    "\n",
    "uh."
   ],
   "metadata": {
    "collapsed": false,
    "pycharm": {
     "name": "#%% md\n"
    }
   }
  },
  {
   "cell_type": "code",
   "execution_count": 101,
   "outputs": [
    {
     "data": {
      "text/plain": "8.000944847364432"
     },
     "execution_count": 101,
     "metadata": {},
     "output_type": "execute_result"
    }
   ],
   "source": [
    "from sklearn.tree import DecisionTreeRegressor\n",
    "from sklearn.model_selection import GridSearchCV\n",
    "from sklearn.metrics import mean_squared_error\n",
    "\n",
    "parameters = {\n",
    "    'criterion' : ['mse', 'mae'],\n",
    "    'max_depth' : range(3, 35)\n",
    "}\n",
    "\n",
    "grid = GridSearchCV(DecisionTreeRegressor(random_state=666), parameters)\n",
    "grid.fit(X_train, y_train)\n",
    "mean_squared_error(y_valid, grid.predict(X_valid))"
   ],
   "metadata": {
    "collapsed": false,
    "pycharm": {
     "name": "#%%\n"
    }
   }
  },
  {
   "cell_type": "code",
   "execution_count": 102,
   "outputs": [
    {
     "name": "stdout",
     "output_type": "stream",
     "text": [
      "Best parameters: {'criterion': 'mse', 'max_depth': 22}\n",
      "[DecisionTreeRegressor(max_depth=22, random_state=666)]\n"
     ]
    }
   ],
   "source": [
    "print(\"Best parameters:\", grid.best_params_)\n",
    "regressors.append(DecisionTreeRegressor(random_state=666, **grid.best_params_).fit(X_train, y_train))\n",
    "print(regressors)"
   ],
   "metadata": {
    "collapsed": false,
    "pycharm": {
     "name": "#%%\n"
    }
   }
  },
  {
   "cell_type": "markdown",
   "source": [
    "### Random forest\n",
    "\n",
    "A little better."
   ],
   "metadata": {
    "collapsed": false,
    "pycharm": {
     "name": "#%% md\n"
    }
   }
  },
  {
   "cell_type": "code",
   "execution_count": 103,
   "outputs": [
    {
     "data": {
      "text/plain": "4.760838445501074"
     },
     "execution_count": 103,
     "metadata": {},
     "output_type": "execute_result"
    }
   ],
   "source": [
    "from sklearn.ensemble import RandomForestRegressor\n",
    "\n",
    "parameters = {\n",
    "    'n_estimators' : range(100, 210, 25),\n",
    "    'max_depth' : range(1, 10),\n",
    "}\n",
    "\n",
    "grid = GridSearchCV(RandomForestRegressor(random_state=666, n_jobs=-1), parameters)\n",
    "grid.fit(X_train, y_train)\n",
    "mean_squared_error(y_valid, grid.predict(X_valid))"
   ],
   "metadata": {
    "collapsed": false,
    "pycharm": {
     "name": "#%%\n"
    }
   }
  },
  {
   "cell_type": "code",
   "execution_count": 104,
   "outputs": [
    {
     "name": "stdout",
     "output_type": "stream",
     "text": [
      "Best parameters: {'max_depth': 9, 'n_estimators': 200}\n",
      "[DecisionTreeRegressor(max_depth=22, random_state=666), RandomForestRegressor(max_depth=9, n_estimators=200, n_jobs=-1,\n",
      "                      random_state=666)]\n"
     ]
    }
   ],
   "source": [
    "print(\"Best parameters:\", grid.best_params_)\n",
    "regressors.append(RandomForestRegressor(random_state=666, n_jobs=-1, **grid.best_params_).fit(X_train, y_train))\n",
    "print(regressors)"
   ],
   "metadata": {
    "collapsed": false,
    "pycharm": {
     "name": "#%%\n"
    }
   }
  },
  {
   "cell_type": "markdown",
   "source": [
    "### AdaBoost"
   ],
   "metadata": {
    "collapsed": false,
    "pycharm": {
     "name": "#%% md\n"
    }
   }
  },
  {
   "cell_type": "code",
   "execution_count": 105,
   "outputs": [
    {
     "data": {
      "text/plain": "9.006748334620438"
     },
     "execution_count": 105,
     "metadata": {},
     "output_type": "execute_result"
    }
   ],
   "source": [
    "from sklearn.ensemble import AdaBoostRegressor\n",
    "\n",
    "parameters = {\n",
    "    'n_estimators' : range(100, 210, 25),\n",
    "    'learning_rate' : [0.01, 0.05, 0.1, 0.3, 0.5, 1],\n",
    "    'loss' : ['linear', 'square', 'exponential']\n",
    "}\n",
    "\n",
    "grid = GridSearchCV(AdaBoostRegressor(random_state=666), parameters)\n",
    "grid.fit(X_train, y_train)\n",
    "mean_squared_error(y_valid, grid.predict(X_valid))"
   ],
   "metadata": {
    "collapsed": false,
    "pycharm": {
     "name": "#%%\n"
    }
   }
  },
  {
   "cell_type": "code",
   "execution_count": 106,
   "outputs": [
    {
     "name": "stdout",
     "output_type": "stream",
     "text": [
      "Best parameters: {'learning_rate': 1, 'loss': 'square', 'n_estimators': 100}\n",
      "[DecisionTreeRegressor(max_depth=22, random_state=666), RandomForestRegressor(max_depth=9, n_estimators=200, n_jobs=-1,\n",
      "                      random_state=666), AdaBoostRegressor(learning_rate=1, loss='square', n_estimators=100,\n",
      "                  random_state=666)]\n"
     ]
    }
   ],
   "source": [
    "print(\"Best parameters:\", grid.best_params_)\n",
    "regressors.append(AdaBoostRegressor(random_state=666, **grid.best_params_).fit(X_train, y_train))\n",
    "print(regressors)"
   ],
   "metadata": {
    "collapsed": false,
    "pycharm": {
     "name": "#%%\n"
    }
   }
  },
  {
   "cell_type": "markdown",
   "source": [
    "### Linear regression\n",
    "\n",
    "That's not really good."
   ],
   "metadata": {
    "collapsed": false,
    "pycharm": {
     "name": "#%% md\n"
    }
   }
  },
  {
   "cell_type": "code",
   "execution_count": 107,
   "outputs": [
    {
     "data": {
      "text/plain": "16.13187320700836"
     },
     "execution_count": 107,
     "metadata": {},
     "output_type": "execute_result"
    }
   ],
   "source": [
    "from sklearn.linear_model import LinearRegression\n",
    "\n",
    "lr = LinearRegression(n_jobs=-1)\n",
    "lr.fit(X_train, y_train)\n",
    "mean_squared_error(y_valid, lr.predict(X_valid))"
   ],
   "metadata": {
    "collapsed": false,
    "pycharm": {
     "name": "#%%\n"
    }
   }
  },
  {
   "cell_type": "code",
   "execution_count": 108,
   "outputs": [
    {
     "name": "stdout",
     "output_type": "stream",
     "text": [
      "[DecisionTreeRegressor(max_depth=22, random_state=666), RandomForestRegressor(max_depth=9, n_estimators=200, n_jobs=-1,\n",
      "                      random_state=666), AdaBoostRegressor(learning_rate=1, loss='square', n_estimators=100,\n",
      "                  random_state=666), LinearRegression(n_jobs=-1)]\n"
     ]
    }
   ],
   "source": [
    "regressors.append(lr)\n",
    "print(regressors)"
   ],
   "metadata": {
    "collapsed": false,
    "pycharm": {
     "name": "#%%\n"
    }
   }
  },
  {
   "cell_type": "markdown",
   "source": [
    "### Ensemble models"
   ],
   "metadata": {
    "collapsed": false,
    "pycharm": {
     "name": "#%% md\n"
    }
   }
  },
  {
   "cell_type": "code",
   "execution_count": 109,
   "outputs": [
    {
     "data": {
      "text/plain": "6.150774519776462"
     },
     "execution_count": 109,
     "metadata": {},
     "output_type": "execute_result"
    }
   ],
   "source": [
    "from sklearn.ensemble import VotingRegressor\n",
    "\n",
    "models = [('tree', regressors[0]), ('forest', regressors[1]), ('adaboost', regressors[2]), ('lr', regressors[3])]\n",
    "\n",
    "ensemble = VotingRegressor(estimators=models)\n",
    "ensemble.fit(X_train, y_train)\n",
    "mean_squared_error(y_valid, ensemble.predict(X_valid))"
   ],
   "metadata": {
    "collapsed": false,
    "pycharm": {
     "name": "#%%\n"
    }
   }
  },
  {
   "cell_type": "code",
   "execution_count": 110,
   "outputs": [],
   "source": [
    "regressors.append(ensemble)"
   ],
   "metadata": {
    "collapsed": false,
    "pycharm": {
     "name": "#%%\n"
    }
   }
  },
  {
   "cell_type": "markdown",
   "source": [
    "### Test against test data"
   ],
   "metadata": {
    "collapsed": false,
    "pycharm": {
     "name": "#%% md\n"
    }
   }
  },
  {
   "cell_type": "code",
   "execution_count": 129,
   "outputs": [
    {
     "data": {
      "text/plain": "<Figure size 432x288 with 1 Axes>",
      "image/png": "[encoded data removed]"
     },
     "metadata": {
      "needs_background": "light"
     },
     "output_type": "display_data"
    }
   ],
   "source": [
    "import matplotlib.pyplot as plt\n",
    "from math import floor\n",
    "\n",
    "models = ['Decision tree', 'Random forest', 'AdaBoost', 'Linear regression', 'Ensembling above']\n",
    "accuracies = []\n",
    "for reg in regressors:\n",
    "    accuracies.append(mean_squared_error(y_test, reg.predict(X_test)))\n",
    "\n",
    "fig = plt.figure()\n",
    "ax = fig.add_axes([0, 0, 1.5, 1.5])\n",
    "ax.bar(models, accuracies)\n",
    "for i, v in enumerate(accuracies):\n",
    "    ax.text(i - 0.12, 3, str(round(v, 2)))\n",
    "plt.show()"
   ],
   "metadata": {
    "collapsed": false,
    "pycharm": {
     "name": "#%%\n"
    }
   }
  }
 ],
 "metadata": {
  "kernelspec": {
   "display_name": "Python 3",
   "language": "python",
   "name": "python3"
  },
  "language_info": {
   "codemirror_mode": {
    "name": "ipython",
    "version": 2
   },
   "file_extension": ".py",
   "mimetype": "text/x-python",
   "name": "python",
   "nbconvert_exporter": "python",
   "pygments_lexer": "ipython2",
   "version": "2.7.6"
  }
 },
 "nbformat": 4,
 "nbformat_minor": 0
}